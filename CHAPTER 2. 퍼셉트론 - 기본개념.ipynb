{
 "cells": [
  {
   "cell_type": "markdown",
   "id": "8f91f94d",
   "metadata": {},
   "source": [
    "# IMPORT"
   ]
  },
  {
   "cell_type": "code",
   "execution_count": null,
   "id": "a45f57cd",
   "metadata": {},
   "outputs": [],
   "source": [
    "import numpy as np"
   ]
  },
  {
   "cell_type": "markdown",
   "id": "b1f06797",
   "metadata": {},
   "source": [
    "# AND GATE"
   ]
  },
  {
   "cell_type": "code",
   "execution_count": null,
   "id": "5e5bdeab",
   "metadata": {},
   "outputs": [],
   "source": [
    "def ANDGATE(x1, x2):\n",
    "    x = np.array([x1, x2])\n",
    "    w = np.array([0.5,0.5])\n",
    "    b = -0.7\n",
    "    tmp = np.sum(w*x) + b\n",
    "    if tmp <= theta:\n",
    "        return 0\n",
    "    else:\n",
    "        return 1"
   ]
  },
  {
   "cell_type": "markdown",
   "id": "21c00dda",
   "metadata": {},
   "source": [
    "# NAND GATE"
   ]
  },
  {
   "cell_type": "code",
   "execution_count": null,
   "id": "359e4a58",
   "metadata": {},
   "outputs": [],
   "source": [
    "def NANDGATE(x1, x2):\n",
    "    x = np.array([x1, x2])\n",
    "    w = np.array([-0.5, -0.5])\n",
    "    b = 0.7\n",
    "    tmp = np.sum(w*x) + b\n",
    "    if tmp <= 0:\n",
    "        return 0\n",
    "    else:\n",
    "        return 1"
   ]
  },
  {
   "cell_type": "markdown",
   "id": "b4253642",
   "metadata": {},
   "source": [
    "# OR GATE"
   ]
  },
  {
   "cell_type": "code",
   "execution_count": null,
   "id": "26423402",
   "metadata": {},
   "outputs": [],
   "source": [
    "def ORGATE(x1, x2):\n",
    "    x = np.array([x1, x2])\n",
    "    w = np.array([0.5, 0.5])\n",
    "    b = -0.2\n",
    "    tmp = np.sum(w*x) + b\n",
    "    if tmp <= 0:\n",
    "        return 0\n",
    "    else:\n",
    "        return 1"
   ]
  },
  {
   "cell_type": "markdown",
   "id": "906b5134",
   "metadata": {},
   "source": [
    "# XOR GATE"
   ]
  },
  {
   "cell_type": "code",
   "execution_count": null,
   "id": "0739ca48",
   "metadata": {},
   "outputs": [],
   "source": [
    "def XORGATE(x1, x2):\n",
    "    s1 = NANDGATE(x1, x2)\n",
    "    s2 = ORGATE(x1, x2)\n",
    "    y = ANDGATE(s1, s2)\n",
    "    return y"
   ]
  }
 ],
 "metadata": {
  "kernelspec": {
   "display_name": "Python 3 (ipykernel)",
   "language": "python",
   "name": "python3"
  },
  "language_info": {
   "codemirror_mode": {
    "name": "ipython",
    "version": 3
   },
   "file_extension": ".py",
   "mimetype": "text/x-python",
   "name": "python",
   "nbconvert_exporter": "python",
   "pygments_lexer": "ipython3",
   "version": "3.10.9"
  }
 },
 "nbformat": 4,
 "nbformat_minor": 5
}
