{
 "cells": [
  {
   "cell_type": "markdown",
   "id": "31dba6e2",
   "metadata": {},
   "source": [
    "# IMPORT"
   ]
  },
  {
   "cell_type": "code",
   "execution_count": 1,
   "id": "14cbd567",
   "metadata": {},
   "outputs": [],
   "source": [
    "from Dataset.MNIST.mnist import load_mnist"
   ]
  },
  {
   "cell_type": "markdown",
   "id": "41336fb3",
   "metadata": {},
   "source": [
    "# 손실함수"
   ]
  },
  {
   "cell_type": "markdown",
   "id": "b95d2bfa",
   "metadata": {},
   "source": [
    "## 오차제곱합 (SSE, Sum of Squares for error) 함수"
   ]
  },
  {
   "cell_type": "code",
   "execution_count": 3,
   "id": "8257e718",
   "metadata": {},
   "outputs": [],
   "source": [
    "def sum_squares_error(y, t):\n",
    "    return 0.5 * np.sum((y-t)**2)"
   ]
  },
  {
   "cell_type": "markdown",
   "id": "2106ab99",
   "metadata": {},
   "source": [
    "## 교차 엔트로피 오차 (CEE, Cross Entropy Error) 함수"
   ]
  },
  {
   "cell_type": "code",
   "execution_count": null,
   "id": "a8e73ce1",
   "metadata": {},
   "outputs": [],
   "source": [
    "# def cross_entropy_error(y, t):\n",
    "#     return -np.sum(t * np.log(y + 1e-7))"
   ]
  },
  {
   "cell_type": "markdown",
   "id": "08737fb5",
   "metadata": {},
   "source": [
    "#### 정답 라벨이 원-핫 인코딩 되어있을 때의 교차 엔트로피 오차 함수"
   ]
  },
  {
   "cell_type": "code",
   "execution_count": 4,
   "id": "7e9c01fa",
   "metadata": {},
   "outputs": [],
   "source": [
    "def cross_entropy_error(y, t):\n",
    "    if y.ndim == 1:\n",
    "        t = t.reshape(1, t.size)\n",
    "        y = y.reshape(1, y.size)\n",
    "        \n",
    "    batch_size = y.shqpe[0]\n",
    "    return -np.sum(t * np.log(y + 1e-7))"
   ]
  },
  {
   "cell_type": "markdown",
   "id": "a4067667",
   "metadata": {},
   "source": [
    "#### 정답 라벨이 숫자 레이블로 주어졌을 때의 교차 엔트로피 오차 함수"
   ]
  },
  {
   "cell_type": "code",
   "execution_count": null,
   "id": "12268dfd",
   "metadata": {},
   "outputs": [],
   "source": [
    "# def cross_entropy_error(y, t):\n",
    "#     if y.ndim == 1:\n",
    "#         t = t.reshape(1, t.size)\n",
    "#         y = y.reshape(1, y.size)\n",
    "        \n",
    "#     batch_size = y.shqpe[0]\n",
    "#     return -np.sum(np.log(y[np.arange(batch_size), t] + 1e-7)) / batch_size"
   ]
  },
  {
   "cell_type": "markdown",
   "id": "096f1b3d",
   "metadata": {},
   "source": [
    "# 미니 배치 학습"
   ]
  },
  {
   "cell_type": "markdown",
   "id": "f70b7471",
   "metadata": {},
   "source": [
    "## MNIST 불러오기"
   ]
  },
  {
   "cell_type": "code",
   "execution_count": 2,
   "id": "ac01d0aa",
   "metadata": {},
   "outputs": [],
   "source": [
    "(x_train, y_train), (x_test, y_test) = load_mnist(flatten=True, normalize=False)"
   ]
  },
  {
   "cell_type": "markdown",
   "id": "d360f5e2",
   "metadata": {},
   "source": [
    "## 배치 뽑아내기"
   ]
  },
  {
   "cell_type": "markdown",
   "id": "fd610d9e",
   "metadata": {},
   "source": [
    "train_size = 전체 데이터 크기<br>\n",
    "batch_size = 일부 학습에 사용할 데이터 크기<br>\n",
    "batch_mask = 일부 학습에 사용할 데이터 번호가 담긴 리스트"
   ]
  },
  {
   "cell_type": "code",
   "execution_count": null,
   "id": "17583ec1",
   "metadata": {},
   "outputs": [],
   "source": [
    "train_size = x_train.shape[0]\n",
    "batch_size = 10"
   ]
  },
  {
   "cell_type": "code",
   "execution_count": null,
   "id": "2fefd73b",
   "metadata": {},
   "outputs": [],
   "source": [
    "batch_mask = np.random.choice(train_size, batch_size)"
   ]
  },
  {
   "cell_type": "code",
   "execution_count": null,
   "id": "805051a0",
   "metadata": {},
   "outputs": [],
   "source": [
    "x_batch = x_train[batch_mask]\n",
    "y_batch = y_train[batch_mask]"
   ]
  },
  {
   "cell_type": "markdown",
   "id": "d29fef33",
   "metadata": {},
   "source": [
    "# 미분"
   ]
  },
  {
   "cell_type": "markdown",
   "id": "756d19cf",
   "metadata": {},
   "source": [
    "## 수치 미분 함수"
   ]
  },
  {
   "cell_type": "code",
   "execution_count": null,
   "id": "03954f6d",
   "metadata": {},
   "outputs": [],
   "source": [
    "def numerical_diff(f, x):\n",
    "    h = 1e-4 #0.0001\n",
    "    return (f(x+h) - f(x-h)) / (2*h)"
   ]
  },
  {
   "cell_type": "code",
   "execution_count": null,
   "id": "ab86afe3",
   "metadata": {},
   "outputs": [],
   "source": [
    "ㅇㄷㄹ "
   ]
  }
 ],
 "metadata": {
  "kernelspec": {
   "display_name": "Python 3 (ipykernel)",
   "language": "python",
   "name": "python3"
  },
  "language_info": {
   "codemirror_mode": {
    "name": "ipython",
    "version": 3
   },
   "file_extension": ".py",
   "mimetype": "text/x-python",
   "name": "python",
   "nbconvert_exporter": "python",
   "pygments_lexer": "ipython3",
   "version": "3.10.9"
  }
 },
 "nbformat": 4,
 "nbformat_minor": 5
}
