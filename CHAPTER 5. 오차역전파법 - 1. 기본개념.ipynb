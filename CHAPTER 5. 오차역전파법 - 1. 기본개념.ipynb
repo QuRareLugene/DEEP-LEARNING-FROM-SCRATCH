{
 "cells": [
  {
   "cell_type": "markdown",
   "id": "08362800",
   "metadata": {},
   "source": [
    "# 곱셈 계층의 오차역전파 계산"
   ]
  },
  {
   "cell_type": "markdown",
   "id": "f6164be1",
   "metadata": {},
   "source": [
    "## 곱셈 계층"
   ]
  },
  {
   "cell_type": "code",
   "execution_count": 1,
   "id": "7e61e81a",
   "metadata": {},
   "outputs": [],
   "source": [
    "class MulLayer:\n",
    "    def __init__(self):\n",
    "        self.x = None\n",
    "        self.y = None\n",
    "\n",
    "    def forward(self, x, y):\n",
    "        self.x = x\n",
    "        self.y = y                \n",
    "        out = x * y\n",
    "\n",
    "        return out\n",
    "\n",
    "    def backward(self, dout):\n",
    "        dx = dout * self.y\n",
    "        dy = dout * self.x\n",
    "\n",
    "        return dx, dy"
   ]
  },
  {
   "cell_type": "markdown",
   "id": "bd029c1a",
   "metadata": {},
   "source": [
    "-----"
   ]
  },
  {
   "cell_type": "markdown",
   "id": "cb5ccc57",
   "metadata": {},
   "source": [
    "### 값"
   ]
  },
  {
   "cell_type": "code",
   "execution_count": 2,
   "id": "44625b52",
   "metadata": {},
   "outputs": [],
   "source": [
    "# 사과의 가격\n",
    "apple = 100\n",
    "# 사과의 개수\n",
    "apple_num = 2\n",
    "# 세금 비율 (10%)\n",
    "tax = 1.1\n",
    "# 결과 배율\n",
    "dprice = 1"
   ]
  },
  {
   "cell_type": "markdown",
   "id": "6b20958e",
   "metadata": {},
   "source": [
    "-----"
   ]
  },
  {
   "cell_type": "markdown",
   "id": "74d749a4",
   "metadata": {},
   "source": [
    "### 계층"
   ]
  },
  {
   "cell_type": "code",
   "execution_count": 3,
   "id": "9494969a",
   "metadata": {},
   "outputs": [],
   "source": [
    "mul_apple_layer = MulLayer()\n",
    "mul_tax_layer = MulLayer()"
   ]
  },
  {
   "cell_type": "markdown",
   "id": "08eb047a",
   "metadata": {},
   "source": [
    "### 순전파"
   ]
  },
  {
   "cell_type": "code",
   "execution_count": 4,
   "id": "e0841566",
   "metadata": {},
   "outputs": [],
   "source": [
    "apple_price = mul_apple_layer.forward(apple, apple_num)\n",
    "price = mul_tax_layer.forward(apple_price, tax)"
   ]
  },
  {
   "cell_type": "markdown",
   "id": "cd6054a4",
   "metadata": {},
   "source": [
    "### 역전파"
   ]
  },
  {
   "cell_type": "code",
   "execution_count": 5,
   "id": "2641411c",
   "metadata": {},
   "outputs": [],
   "source": [
    "dapple_price, dtax = mul_tax_layer.backward(dprice)\n",
    "dapple, dapple_num = mul_apple_layer.backward(dapple_price)"
   ]
  },
  {
   "cell_type": "markdown",
   "id": "bc6afb17",
   "metadata": {},
   "source": [
    "-----"
   ]
  },
  {
   "cell_type": "markdown",
   "id": "4b6bf82e",
   "metadata": {},
   "source": [
    "### 결과값"
   ]
  },
  {
   "cell_type": "code",
   "execution_count": 6,
   "id": "a8dc4445",
   "metadata": {},
   "outputs": [
    {
     "name": "stdout",
     "output_type": "stream",
     "text": [
      "가격: 220\n",
      "사과 가격의 미분: 2.2\n",
      "사과 개수의 미분: 110\n",
      "세금의 미분: 200\n"
     ]
    }
   ],
   "source": [
    "print(f\"가격: {int(price)}\")\n",
    "print(f\"사과 가격의 미분: {dapple:.1f}\")\n",
    "print(f\"사과 개수의 미분: {int(dapple_num)}\")\n",
    "print(f\"세금의 미분: {dtax}\")"
   ]
  },
  {
   "cell_type": "markdown",
   "id": "3666bca1",
   "metadata": {},
   "source": [
    "-----"
   ]
  },
  {
   "cell_type": "markdown",
   "id": "41adb9fb",
   "metadata": {},
   "source": [
    "# 덧셈 계층과 곱셈 계층을 사용한 오차역전파 계산"
   ]
  },
  {
   "cell_type": "markdown",
   "id": "4e505078",
   "metadata": {},
   "source": [
    "## 덧셈 계층"
   ]
  },
  {
   "cell_type": "code",
   "execution_count": 7,
   "id": "ebfffa17",
   "metadata": {},
   "outputs": [],
   "source": [
    "class AddLayer:\n",
    "    def __init__(self):\n",
    "        pass\n",
    "\n",
    "    def forward(self, x, y):\n",
    "        out = x + y\n",
    "\n",
    "        return out\n",
    "\n",
    "    def backward(self, dout):\n",
    "        dx = dout * 1\n",
    "        dy = dout * 1\n",
    "\n",
    "        return dx, dy"
   ]
  },
  {
   "cell_type": "markdown",
   "id": "7396824a",
   "metadata": {},
   "source": [
    "-----"
   ]
  },
  {
   "cell_type": "markdown",
   "id": "cb532c94",
   "metadata": {},
   "source": [
    "## 오차 역전파 확인"
   ]
  },
  {
   "cell_type": "markdown",
   "id": "7540f0d7",
   "metadata": {},
   "source": [
    "### 값"
   ]
  },
  {
   "cell_type": "code",
   "execution_count": 8,
   "id": "88d1df40",
   "metadata": {},
   "outputs": [],
   "source": [
    "# 사과의 가격\n",
    "apple = 100\n",
    "# 사과의 개수\n",
    "apple_num = 2\n",
    "# 귤의 가격\n",
    "orange = 150\n",
    "# 귤의 개수\n",
    "orange_num = 3\n",
    "# 세금 비율 (10%)\n",
    "tax = 1.1\n",
    "# 결과 배율\n",
    "dprice = 1"
   ]
  },
  {
   "cell_type": "markdown",
   "id": "8a5c7e24",
   "metadata": {},
   "source": [
    "-----"
   ]
  },
  {
   "cell_type": "markdown",
   "id": "28f42e96",
   "metadata": {},
   "source": [
    "### 계층"
   ]
  },
  {
   "cell_type": "code",
   "execution_count": 9,
   "id": "021c36e1",
   "metadata": {},
   "outputs": [],
   "source": [
    "mul_apple_layer = MulLayer()\n",
    "mul_orange_layer = MulLayer()\n",
    "add_apple_orange_layer = AddLayer()\n",
    "mul_tax_layer = MulLayer()"
   ]
  },
  {
   "cell_type": "markdown",
   "id": "6bfc5b08",
   "metadata": {},
   "source": [
    "### 순전파"
   ]
  },
  {
   "cell_type": "code",
   "execution_count": 10,
   "id": "267147bf",
   "metadata": {},
   "outputs": [],
   "source": [
    "apple_price = mul_apple_layer.forward(apple, apple_num)  # (1)\n",
    "orange_price = mul_orange_layer.forward(orange, orange_num)  # (2)\n",
    "all_price = add_apple_orange_layer.forward(apple_price, orange_price)  # (3)\n",
    "price = mul_tax_layer.forward(all_price, tax)  # (4)"
   ]
  },
  {
   "cell_type": "markdown",
   "id": "139bb93b",
   "metadata": {},
   "source": [
    "### 역전파"
   ]
  },
  {
   "cell_type": "code",
   "execution_count": 11,
   "id": "9b40ffc5",
   "metadata": {},
   "outputs": [],
   "source": [
    "dall_price, dtax = mul_tax_layer.backward(dprice)  # (4)\n",
    "dapple_price, dorange_price = add_apple_orange_layer.backward(dall_price)  # (3)\n",
    "dorange, dorange_num = mul_orange_layer.backward(dorange_price)  # (2)\n",
    "dapple, dapple_num = mul_apple_layer.backward(dapple_price)  # (1)"
   ]
  },
  {
   "cell_type": "markdown",
   "id": "3bcbfc36",
   "metadata": {},
   "source": [
    "-----"
   ]
  },
  {
   "cell_type": "markdown",
   "id": "71239c5e",
   "metadata": {},
   "source": [
    "### 값 계산"
   ]
  },
  {
   "cell_type": "code",
   "execution_count": 12,
   "id": "ccbce380",
   "metadata": {},
   "outputs": [
    {
     "name": "stdout",
     "output_type": "stream",
     "text": [
      "최종 가격: 715\n",
      "사과 가격의 미분: 2.2\n",
      "사과 개수의 미분: 110\n",
      "귤 가격의 미분: 3.3\n",
      "귤 개수의 미분: 165\n",
      "세금의 미분: 650\n"
     ]
    }
   ],
   "source": [
    "print(f\"최종 가격: {int(price)}\")\n",
    "print(f\"사과 가격의 미분: {dapple:.1f}\")\n",
    "print(f\"사과 개수의 미분: {int(dapple_num)}\")\n",
    "print(f\"귤 가격의 미분: {dorange:.1f}\")\n",
    "print(f\"귤 개수의 미분: {int(dorange_num)}\")\n",
    "print(f\"세금의 미분: {dtax}\")"
   ]
  }
 ],
 "metadata": {
  "kernelspec": {
   "display_name": "Python 3 (ipykernel)",
   "language": "python",
   "name": "python3"
  },
  "language_info": {
   "codemirror_mode": {
    "name": "ipython",
    "version": 3
   },
   "file_extension": ".py",
   "mimetype": "text/x-python",
   "name": "python",
   "nbconvert_exporter": "python",
   "pygments_lexer": "ipython3",
   "version": "3.10.9"
  }
 },
 "nbformat": 4,
 "nbformat_minor": 5
}
