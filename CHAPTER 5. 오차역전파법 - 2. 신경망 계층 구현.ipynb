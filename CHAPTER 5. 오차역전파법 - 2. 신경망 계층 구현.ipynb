{
 "cells": [
  {
   "cell_type": "markdown",
   "id": "e327440c",
   "metadata": {},
   "source": [
    "## 활성화 함수 계층"
   ]
  },
  {
   "cell_type": "markdown",
   "id": "89f393bb",
   "metadata": {},
   "source": [
    "### ReLU  계층"
   ]
  },
  {
   "cell_type": "code",
   "execution_count": 1,
   "id": "8ed729cc",
   "metadata": {},
   "outputs": [],
   "source": [
    "class Relu:\n",
    "    def __init__(self):\n",
    "        # mask는 T/F 넘파이 배열. 순전파 입력값 0 이하는 True, 그 이외는 False 유지.\n",
    "        self.mask = None\n",
    "\n",
    "    def forward(self, x):\n",
    "        self.mask = (x <= 0)\n",
    "        out = x.copy()\n",
    "        out[self.mask] = 0\n",
    "\n",
    "        return out\n",
    "\n",
    "    def backward(self, dout):\n",
    "        dout[self.mask] = 0\n",
    "        dx = dout\n",
    "\n",
    "        return dx"
   ]
  },
  {
   "cell_type": "markdown",
   "id": "7d7e47f4",
   "metadata": {},
   "source": [
    "### Sigmoid 계층"
   ]
  },
  {
   "cell_type": "code",
   "execution_count": 2,
   "id": "44305eff",
   "metadata": {},
   "outputs": [],
   "source": [
    "class Sigmoid:\n",
    "    def __init__(self):\n",
    "        self.out = None\n",
    "\n",
    "    def forward(self, x):\n",
    "        # 순전파의 출력을 out에 보관. 역전파 계산 시 값을 사용\n",
    "        out = sigmoid(x)\n",
    "        self.out = out\n",
    "        return out\n",
    "\n",
    "    def backward(self, dout):\n",
    "        dx = dout * (1.0 - self.out) * self.out\n",
    "\n",
    "        return dx"
   ]
  },
  {
   "cell_type": "markdown",
   "id": "75854dd5",
   "metadata": {},
   "source": [
    "### Affine 계층\n",
    "**Affine**: 순전파 때 수행하는 행렬의 곱을 **어파인 변환**이라고 한다. 이를 수행하는 처리를 Affine 계층이라고 구현해놓았다."
   ]
  },
  {
   "cell_type": "code",
   "execution_count": 3,
   "id": "f879376a",
   "metadata": {},
   "outputs": [],
   "source": [
    "# # 예시에서 데이터가 2개(N=2)라고 가정할 때의 Affine\n",
    "# class Affine:\n",
    "#     def __init__(self, W, b):\n",
    "#         self.W =W\n",
    "#         self.b = b\n",
    "#         self.x = None\n",
    "#         self.dW = None\n",
    "#         self.db = None\n",
    "        \n",
    "#     def forward(self, x):\n",
    "#         self.x = x\n",
    "#         out = np.dot(x, self.W) + self.b\n",
    "        \n",
    "#         return out\n",
    "    \n",
    "#     def backward(self, dout):\n",
    "#         dx = np.dot(dout, self.W.T)\n",
    "#         self.dW = np.dot(self.x.T, dout)\n",
    "#         self.db = np.sum(dout, axis=0)\n",
    "        \n",
    "#         return dx"
   ]
  },
  {
   "cell_type": "code",
   "execution_count": 4,
   "id": "dc28cf68",
   "metadata": {},
   "outputs": [],
   "source": [
    "# 입력 데이터가 텐서인 경우도 고려한 구현\n",
    "class Affine:\n",
    "    def __init__(self, W, b):\n",
    "        self.W =W\n",
    "        self.b = b\n",
    "        \n",
    "        self.x = None\n",
    "        self.original_x_shape = None\n",
    "        self.dW = None\n",
    "        self.db = None\n",
    "\n",
    "    def forward(self, x):\n",
    "        self.original_x_shape = x.shape\n",
    "        x = x.reshape(x.shape[0], -1)\n",
    "        self.x = x\n",
    "\n",
    "        out = np.dot(self.x, self.W) + self.b\n",
    "\n",
    "        return out\n",
    "\n",
    "    def backward(self, dout):\n",
    "        dx = np.dot(dout, self.W.T)\n",
    "        self.dW = np.dot(self.x.T, dout)\n",
    "        self.db = np.sum(dout, axis=0)\n",
    "        \n",
    "        dx = dx.reshape(*self.original_x_shape)\n",
    "        return dx"
   ]
  },
  {
   "cell_type": "markdown",
   "id": "3fc485f3",
   "metadata": {},
   "source": [
    "## 출력 계층"
   ]
  },
  {
   "cell_type": "markdown",
   "id": "fb441883",
   "metadata": {},
   "source": [
    "### Softmax - with - Loss 계층"
   ]
  },
  {
   "cell_type": "code",
   "execution_count": 5,
   "id": "47e7652a",
   "metadata": {},
   "outputs": [],
   "source": [
    "class SoftmaxWithLoss:\n",
    "    def __init__(self):\n",
    "        # 손실\n",
    "        self.loss = None\n",
    "        # softmax의 출력\n",
    "        self.y = None\n",
    "        # 정답 라벨 (원-핫 벡터)\n",
    "        self.t = None\n",
    "\n",
    "    def forward(self, x, t):\n",
    "        self.t = t\n",
    "        self.y = softmax(x)\n",
    "        self.loss = cross_entropy_error(self.y, self.t)\n",
    "        \n",
    "        return self.loss\n",
    "\n",
    "    def backward(self, dout=1):\n",
    "        batch_size = self.t.shape[0]\n",
    "        if self.t.size == self.y.size:\n",
    "            dx = (self.y - self.t) / batch_size\n",
    "        else:\n",
    "            dx = self.y.copy()\n",
    "            dx[np.arange(batch_size), self.t] -= 1\n",
    "            dx = dx / batch_size\n",
    "        \n",
    "        return dx"
   ]
  }
 ],
 "metadata": {
  "kernelspec": {
   "display_name": "Python 3 (ipykernel)",
   "language": "python",
   "name": "python3"
  },
  "language_info": {
   "codemirror_mode": {
    "name": "ipython",
    "version": 3
   },
   "file_extension": ".py",
   "mimetype": "text/x-python",
   "name": "python",
   "nbconvert_exporter": "python",
   "pygments_lexer": "ipython3",
   "version": "3.10.9"
  }
 },
 "nbformat": 4,
 "nbformat_minor": 5
}
