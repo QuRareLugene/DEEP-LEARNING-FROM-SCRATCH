{
 "cells": [
  {
   "cell_type": "markdown",
   "id": "e32fc7e8",
   "metadata": {},
   "source": [
    "# 신경망 학습의 순서"
   ]
  },
  {
   "cell_type": "markdown",
   "id": "68702979",
   "metadata": {},
   "source": [
    "**전제**\n",
    "- 신경망 학습에는 적응 가능한 가중치와 편향이 있다.\n",
    "- 가중치와 편향을 푼련 데이터에 적응하도록 조정하는 과정을 **학습**이라고 한다.\n",
    "- 학습은 다음 4단계로 진행된다."
   ]
  },
  {
   "cell_type": "markdown",
   "id": "56063da9",
   "metadata": {},
   "source": [
    "**1단계 - 미니배치**\n",
    "- 훈련 데이터 중 일부를 무작위로 가져온다.\n",
    "- 이렇게 선별한 데이터를 미니배치라고 한다.\n",
    "- 미니배치의 손실함수 값을 줄이는 것이 목표이다."
   ]
  },
  {
   "cell_type": "markdown",
   "id": "9b423b69",
   "metadata": {},
   "source": [
    "**2단계 - 기울기 산출**\n",
    "- 미니배치의 손실함수 값을 줄이기 위해 각 가중치 매개변수의 기울기를 구한다.\n",
    "- 기울기는 손실함수의 값을 가장 작게 하는 방향을 제시한다."
   ]
  },
  {
   "cell_type": "markdown",
   "id": "0365d1b4",
   "metadata": {},
   "source": [
    "**3단계 - 매개변수 갱신**\n",
    "- 가중치 매개변수를 기울기 방향으로 아주 조금 갱신한다."
   ]
  },
  {
   "cell_type": "markdown",
   "id": "efb3968d",
   "metadata": {},
   "source": [
    "**4단계 - 반복**\n",
    "- 1~3단계를 반복한다."
   ]
  },
  {
   "cell_type": "markdown",
   "id": "501dcedb",
   "metadata": {},
   "source": [
    "-----"
   ]
  },
  {
   "cell_type": "markdown",
   "id": "e6e34fc4",
   "metadata": {},
   "source": [
    "# IMPORT"
   ]
  },
  {
   "cell_type": "code",
   "execution_count": 1,
   "id": "2dcdda4c",
   "metadata": {},
   "outputs": [],
   "source": [
    "import sys, os\n",
    "sys.path.append(os.pardir)\n",
    "import numpy as np\n",
    "from Common.layers import *\n",
    "from Common.gradient import numerical_gradient\n",
    "from collections import OrderedDict"
   ]
  },
  {
   "cell_type": "code",
   "execution_count": 2,
   "id": "203a39ab",
   "metadata": {},
   "outputs": [],
   "source": [
    "from Dataset.MNIST.mnist import load_mnist"
   ]
  },
  {
   "cell_type": "markdown",
   "id": "b894e145",
   "metadata": {},
   "source": [
    "# 구현하기"
   ]
  },
  {
   "cell_type": "code",
   "execution_count": 3,
   "id": "5c641a4d",
   "metadata": {},
   "outputs": [],
   "source": [
    "class Affine:\n",
    "    def __init__(self, W, b):\n",
    "        self.W =W\n",
    "        self.b = b\n",
    "        \n",
    "        self.x = None\n",
    "        self.original_x_shape = None\n",
    "        # 重み・バイアスパラメータの微分\n",
    "        self.dW = None\n",
    "        self.db = None\n",
    "\n",
    "    def forward(self, x):\n",
    "        # テンソル対応\n",
    "        self.original_x_shape = x.shape\n",
    "        x = x.reshape(x.shape[0], -1)\n",
    "        self.x = x\n",
    "\n",
    "        out = np.dot(self.x, self.W) + self.b\n",
    "\n",
    "        return out\n",
    "\n",
    "    def backward(self, dout):\n",
    "        dx = np.dot(dout, self.W.T)\n",
    "        self.dW = np.dot(self.x.T, dout)\n",
    "        self.db = np.sum(dout, axis=0)\n",
    "        \n",
    "        dx = dx.reshape(*self.original_x_shape)  # 入力データの形状に戻す（テンソル対応）\n",
    "        return dx"
   ]
  },
  {
   "cell_type": "markdown",
   "id": "d11d967a",
   "metadata": {},
   "source": [
    "## 2층 신경망"
   ]
  },
  {
   "cell_type": "code",
   "execution_count": 4,
   "id": "d5ce8c52",
   "metadata": {},
   "outputs": [],
   "source": [
    "class TwoLayerNet:\n",
    "\n",
    "    def __init__(self, input_size, hidden_size, output_size, weight_init_std = 0.01):\n",
    "        # 가중치의 초기화\n",
    "        self.params = {}\n",
    "        self.params['W1'] = weight_init_std * np.random.randn(input_size, hidden_size)\n",
    "        self.params['b1'] = np.zeros(hidden_size)\n",
    "        self.params['W2'] = weight_init_std * np.random.randn(hidden_size, output_size) \n",
    "        self.params['b2'] = np.zeros(output_size)\n",
    "\n",
    "        # 계층 생성\n",
    "        self.layers = OrderedDict()\n",
    "        self.layers['Affine1'] = Affine(self.params['W1'], self.params['b1'])\n",
    "        self.layers['Relu1'] = Relu()\n",
    "        self.layers['Affine2'] = Affine(self.params['W2'], self.params['b2'])\n",
    "\n",
    "        self.lastLayer = SoftmaxWithLoss()\n",
    "        \n",
    "    def predict(self, x):\n",
    "        for layer in self.layers.values():\n",
    "            x = layer.forward(x)\n",
    "        \n",
    "        return x\n",
    "        \n",
    "    # x: 입력 데이터, t: 정답 라벨\n",
    "    def loss(self, x, t):\n",
    "        y = self.predict(x)\n",
    "        return self.lastLayer.forward(y, t)\n",
    "    \n",
    "    def accuracy(self, x, t):\n",
    "        y = self.predict(x)\n",
    "        y = np.argmax(y, axis=1)\n",
    "        if t.ndim != 1 : t = np.argmax(t, axis=1)\n",
    "        \n",
    "        accuracy = np.sum(y == t) / float(x.shape[0])\n",
    "        return accuracy\n",
    "        \n",
    "    # x: 입력 데이터, t: 정답 라벨\n",
    "    def numerical_gradient(self, x, t):\n",
    "        loss_W = lambda W: self.loss(x, t)\n",
    "        \n",
    "        grads = {}\n",
    "        grads['W1'] = numerical_gradient(loss_W, self.params['W1'])\n",
    "        grads['b1'] = numerical_gradient(loss_W, self.params['b1'])\n",
    "        grads['W2'] = numerical_gradient(loss_W, self.params['W2'])\n",
    "        grads['b2'] = numerical_gradient(loss_W, self.params['b2'])\n",
    "        \n",
    "        return grads\n",
    "        \n",
    "    def gradient(self, x, t):\n",
    "        # 순전파\n",
    "        self.loss(x, t)\n",
    "\n",
    "        # 역전파\n",
    "        dout = 1\n",
    "        dout = self.lastLayer.backward(dout)\n",
    "        \n",
    "        layers = list(self.layers.values())\n",
    "        layers.reverse()\n",
    "        for layer in layers:\n",
    "            dout = layer.backward(dout)\n",
    "\n",
    "        # 결과 저장\n",
    "        grads = {}\n",
    "        grads['W1'], grads['b1'] = self.layers['Affine1'].dW, self.layers['Affine1'].db\n",
    "        grads['W2'], grads['b2'] = self.layers['Affine2'].dW, self.layers['Affine2'].db\n",
    "\n",
    "        return grads"
   ]
  },
  {
   "cell_type": "markdown",
   "id": "7393bc5c",
   "metadata": {},
   "source": [
    "## 기울기 검증"
   ]
  },
  {
   "cell_type": "code",
   "execution_count": 5,
   "id": "b3380978",
   "metadata": {},
   "outputs": [
    {
     "name": "stdout",
     "output_type": "stream",
     "text": [
      "W1:4.0691212296991757e-10\n",
      "b1:2.4601384499521597e-09\n",
      "W2:5.7419309359415325e-09\n",
      "b2:1.402419795501486e-07\n"
     ]
    }
   ],
   "source": [
    "# 데이터 읽기\n",
    "(x_train, t_train), (x_test, t_test) = load_mnist(normalize=True, one_hot_label=True)\n",
    "\n",
    "network = TwoLayerNet(input_size=784, hidden_size=50, output_size=10)\n",
    "\n",
    "x_batch = x_train[:3]\n",
    "t_batch = t_train[:3]\n",
    "\n",
    "grad_numerical = network.numerical_gradient(x_batch, t_batch)\n",
    "grad_backprop = network.gradient(x_batch, t_batch)\n",
    "\n",
    "# 각 가중치의 차이의 절댓값을 구한 후 절댓값들의 평균을 구한다.\n",
    "for key in grad_numerical.keys():\n",
    "    diff = np.average( np.abs(grad_backprop[key] - grad_numerical[key]) )\n",
    "    print(key + \":\" + str(diff))"
   ]
  },
  {
   "cell_type": "markdown",
   "id": "3d17c878",
   "metadata": {},
   "source": [
    "## 학습 구현"
   ]
  },
  {
   "cell_type": "code",
   "execution_count": 6,
   "id": "1ec16fc0",
   "metadata": {},
   "outputs": [
    {
     "name": "stdout",
     "output_type": "stream",
     "text": [
      "----------\n",
      "에포크: 0\n",
      "학  습  정확도: 0.1245\n",
      "테스트 정확도:  0.1194\n",
      "----------\n",
      "----------\n",
      "에포크: 600\n",
      "학  습  정확도: 0.9004\n",
      "테스트 정확도:  0.9018\n",
      "----------\n",
      "----------\n",
      "에포크: 1200\n",
      "학  습  정확도: 0.9238\n",
      "테스트 정확도:  0.9245\n",
      "----------\n",
      "----------\n",
      "에포크: 1800\n",
      "학  습  정확도: 0.9351\n",
      "테스트 정확도:  0.9345\n",
      "----------\n",
      "----------\n",
      "에포크: 2400\n",
      "학  습  정확도: 0.9437\n",
      "테스트 정확도:  0.9396\n",
      "----------\n",
      "----------\n",
      "에포크: 3000\n",
      "학  습  정확도: 0.9505\n",
      "테스트 정확도:  0.9472\n",
      "----------\n",
      "----------\n",
      "에포크: 3600\n",
      "학  습  정확도: 0.9574\n",
      "테스트 정확도:  0.9539\n",
      "----------\n",
      "----------\n",
      "에포크: 4200\n",
      "학  습  정확도: 0.9618\n",
      "테스트 정확도:  0.9576\n",
      "----------\n",
      "----------\n",
      "에포크: 4800\n",
      "학  습  정확도: 0.9650\n",
      "테스트 정확도:  0.9604\n",
      "----------\n",
      "----------\n",
      "에포크: 5400\n",
      "학  습  정확도: 0.9676\n",
      "테스트 정확도:  0.9622\n",
      "----------\n",
      "----------\n",
      "에포크: 6000\n",
      "학  습  정확도: 0.9695\n",
      "테스트 정확도:  0.9638\n",
      "----------\n",
      "----------\n",
      "에포크: 6600\n",
      "학  습  정확도: 0.9717\n",
      "테스트 정확도:  0.9661\n",
      "----------\n",
      "----------\n",
      "에포크: 7200\n",
      "학  습  정확도: 0.9740\n",
      "테스트 정확도:  0.9674\n",
      "----------\n",
      "----------\n",
      "에포크: 7800\n",
      "학  습  정확도: 0.9751\n",
      "테스트 정확도:  0.9682\n",
      "----------\n",
      "----------\n",
      "에포크: 8400\n",
      "학  습  정확도: 0.9771\n",
      "테스트 정확도:  0.9702\n",
      "----------\n",
      "----------\n",
      "에포크: 9000\n",
      "학  습  정확도: 0.9768\n",
      "테스트 정확도:  0.9700\n",
      "----------\n",
      "----------\n",
      "에포크: 9600\n",
      "학  습  정확도: 0.9793\n",
      "테스트 정확도:  0.9707\n",
      "----------\n"
     ]
    }
   ],
   "source": [
    "# 데이터 읽기\n",
    "(x_train, t_train), (x_test, t_test) = load_mnist(normalize=True, one_hot_label=True)\n",
    "\n",
    "network = TwoLayerNet(input_size=784, hidden_size=50, output_size=10)\n",
    "\n",
    "iters_num = 10000\n",
    "train_size = x_train.shape[0]\n",
    "batch_size = 100\n",
    "learning_rate = 0.1\n",
    "\n",
    "train_loss_list = []\n",
    "train_acc_list = []\n",
    "test_acc_list = []\n",
    "\n",
    "iter_per_epoch = max(train_size / batch_size, 1)\n",
    "\n",
    "for i in range(iters_num):\n",
    "    batch_mask = np.random.choice(train_size, batch_size)\n",
    "    x_batch = x_train[batch_mask]\n",
    "    t_batch = t_train[batch_mask]\n",
    "    \n",
    "    # 오차역전파법으로 기울기를 구한다.\n",
    "    grad = network.gradient(x_batch, t_batch)\n",
    "    \n",
    "    # 갱신\n",
    "    for key in ('W1', 'b1', 'W2', 'b2'):\n",
    "        network.params[key] -= learning_rate * grad[key]\n",
    "    \n",
    "    loss = network.loss(x_batch, t_batch)\n",
    "    train_loss_list.append(loss)\n",
    "    \n",
    "    if i % iter_per_epoch == 0:\n",
    "        print(\"----------\")\n",
    "        print(f\"에포크: {i}\")\n",
    "        train_acc = network.accuracy(x_train, t_train)\n",
    "        test_acc = network.accuracy(x_test, t_test)\n",
    "        train_acc_list.append(train_acc)\n",
    "        test_acc_list.append(test_acc)\n",
    "        print(f\"학  습  정확도: {train_acc:.4f}\\n테스트 정확도:  {test_acc:.4f}\")\n",
    "        print(\"----------\")"
   ]
  }
 ],
 "metadata": {
  "kernelspec": {
   "display_name": "Python 3 (ipykernel)",
   "language": "python",
   "name": "python3"
  },
  "language_info": {
   "codemirror_mode": {
    "name": "ipython",
    "version": 3
   },
   "file_extension": ".py",
   "mimetype": "text/x-python",
   "name": "python",
   "nbconvert_exporter": "python",
   "pygments_lexer": "ipython3",
   "version": "3.10.9"
  }
 },
 "nbformat": 4,
 "nbformat_minor": 5
}
