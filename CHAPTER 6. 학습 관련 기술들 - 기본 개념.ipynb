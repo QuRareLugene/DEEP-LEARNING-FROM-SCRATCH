{
 "cells": [
  {
   "cell_type": "markdown",
   "id": "6667db82",
   "metadata": {},
   "source": [
    "# IMPORT"
   ]
  },
  {
   "cell_type": "code",
   "execution_count": 1,
   "id": "b21b7e69",
   "metadata": {},
   "outputs": [],
   "source": [
    "import numpy as np\n",
    "import matplotlib.pyplot as plt\n",
    "from Dataset.MNIST.mnist import load_mnist\n",
    "from Common.util import smooth_curve\n",
    "from Common.MLN import MultiLayerNet"
   ]
  },
  {
   "cell_type": "markdown",
   "id": "fa758829",
   "metadata": {},
   "source": [
    "-----"
   ]
  },
  {
   "cell_type": "markdown",
   "id": "eb1a06ec",
   "metadata": {},
   "source": [
    "# 매개변수 갱신의 여러 기법들"
   ]
  },
  {
   "cell_type": "markdown",
   "id": "98da46ff",
   "metadata": {},
   "source": [
    "## 확률적 경사 하강법 (SGD)"
   ]
  },
  {
   "cell_type": "markdown",
   "id": "bfeeb1f3",
   "metadata": {},
   "source": [
    "- 비등방성 함수에서 탐색경로가 비효율적이다."
   ]
  },
  {
   "cell_type": "code",
   "execution_count": 2,
   "id": "4e1a9940",
   "metadata": {},
   "outputs": [],
   "source": [
    "class SGD:\n",
    "    def __init__(self, lr=0.01):\n",
    "        self.lr = lr\n",
    "        \n",
    "    def update(self, params, grads):\n",
    "        for key in params.keys():\n",
    "            params[key] -= self.lr*grads[key]"
   ]
  },
  {
   "cell_type": "markdown",
   "id": "115cc3b5",
   "metadata": {},
   "source": [
    "----"
   ]
  },
  {
   "cell_type": "markdown",
   "id": "c8a827a1",
   "metadata": {},
   "source": [
    "## 모멘텀"
   ]
  },
  {
   "cell_type": "markdown",
   "id": "1f13d650",
   "metadata": {},
   "source": [
    "- 운동량을 의미하며, 아무런 힘을 받지 않을 때 서서히 하강시킨다."
   ]
  },
  {
   "cell_type": "markdown",
   "id": "567c67d5",
   "metadata": {},
   "source": [
    "- SGD보다는 지그재그 정도가 덜하다."
   ]
  },
  {
   "cell_type": "code",
   "execution_count": 3,
   "id": "b2cde819",
   "metadata": {},
   "outputs": [],
   "source": [
    "class Momentum:\n",
    "    def __init__(self, lr=0.01, momentum=0.9):\n",
    "        self.lr = lr\n",
    "        self.momentum = momentum\n",
    "        self.v = None\n",
    "        \n",
    "    def update(self, params, grads):\n",
    "        if self.v is None:\n",
    "            self.v = {}\n",
    "            for key, val in params.items():                                \n",
    "                self.v[key] = np.zeros_like(val)\n",
    "                \n",
    "        for key in params.keys():\n",
    "            self.v[key] = self.momentum*self.v[key] - self.lr*grads[key] \n",
    "            params[key] += self.v[key]"
   ]
  },
  {
   "cell_type": "markdown",
   "id": "00fce3fd",
   "metadata": {},
   "source": [
    "## AdaGrad"
   ]
  },
  {
   "cell_type": "markdown",
   "id": "b2a0c48c",
   "metadata": {},
   "source": [
    "- 학습을 진행하면서 학습률을 점차 줄여나가는 방법 중 하나로, 매개변수 전체의 학습률 값을 일괄적으로 낮추는 방법을 발전시킨 것이다.\n",
    "- 각각의 매개변수에 맞춤형 값을 만들어준다.\n",
    "- 과거의 기울기를 제곱해 계속 더해나가며 학습을 진행할 수록 갱신 강도가 약해진다.\n",
    "- 무한히 계속하면 갱신량이 0이 되어버리는데, 이를 개선한 방법으로 RMSProp이라는 방법이 존재한다."
   ]
  },
  {
   "cell_type": "code",
   "execution_count": 4,
   "id": "06a8971a",
   "metadata": {},
   "outputs": [],
   "source": [
    "class AdaGrad:\n",
    "\n",
    "    def __init__(self, lr=0.01):\n",
    "        self.lr = lr\n",
    "        self.h = None\n",
    "        \n",
    "    def update(self, params, grads):\n",
    "        if self.h is None:\n",
    "            self.h = {}\n",
    "            for key, val in params.items():\n",
    "                self.h[key] = np.zeros_like(val)\n",
    "            \n",
    "        for key in params.keys():\n",
    "            self.h[key] += grads[key] * grads[key]\n",
    "            # 마지막에 존재하는 1e-7 값은 0으로 나누는 일을 막아준다.\n",
    "            params[key] -= self.lr * grads[key] / (np.sqrt(self.h[key]) + 1e-7)"
   ]
  },
  {
   "cell_type": "markdown",
   "id": "e0678c09",
   "metadata": {},
   "source": [
    "## RMSProp"
   ]
  },
  {
   "cell_type": "markdown",
   "id": "bcddf38f",
   "metadata": {},
   "source": [
    "- RMSProp은 지수이동평균(EMA: Exponential Moving Average)라는 사용한다.\n",
    "- EMA는 과거의 기울기를 서서히 잊고 새로운 기울기 정보를 크게 반영하는 방법을 사용해 과거 기울기 반영 규모를 감소시킨다."
   ]
  },
  {
   "cell_type": "code",
   "execution_count": 5,
   "id": "f1373518",
   "metadata": {},
   "outputs": [],
   "source": [
    "class RMSprop:\n",
    "\n",
    "    def __init__(self, lr=0.01, decay_rate = 0.99):\n",
    "        self.lr = lr\n",
    "        self.decay_rate = decay_rate\n",
    "        self.h = None\n",
    "        \n",
    "    def update(self, params, grads):\n",
    "        if self.h is None:\n",
    "            self.h = {}\n",
    "            for key, val in params.items():\n",
    "                self.h[key] = np.zeros_like(val)\n",
    "            \n",
    "        for key in params.keys():\n",
    "            self.h[key] *= self.decay_rate\n",
    "            self.h[key] += (1 - self.decay_rate) * grads[key] * grads[key]\n",
    "            params[key] -= self.lr * grads[key] / (np.sqrt(self.h[key]) + 1e-7)"
   ]
  },
  {
   "cell_type": "markdown",
   "id": "96b73049",
   "metadata": {},
   "source": [
    "-----"
   ]
  },
  {
   "cell_type": "markdown",
   "id": "25d20864",
   "metadata": {},
   "source": [
    "## Adam"
   ]
  },
  {
   "cell_type": "markdown",
   "id": "223ca0c4",
   "metadata": {},
   "source": [
    "- 2015년에 제안된 방법이다.\n",
    "- 모멘텀과 AdaGrad를 융합한 것 같은 방법이다.\n",
    "- 편향 보정이 진행된다.\n",
    "- 참고: http://arxiv.org/abs/1412.6980v8"
   ]
  },
  {
   "cell_type": "code",
   "execution_count": 6,
   "id": "e7f8a1f3",
   "metadata": {},
   "outputs": [],
   "source": [
    "class Adam:\n",
    "    def __init__(self, lr=0.001, beta1=0.9, beta2=0.999):\n",
    "        self.lr = lr\n",
    "        self.beta1 = beta1\n",
    "        self.beta2 = beta2\n",
    "        self.iter = 0\n",
    "        self.m = None\n",
    "        self.v = None\n",
    "        \n",
    "    def update(self, params, grads):\n",
    "        if self.m is None:\n",
    "            self.m, self.v = {}, {}\n",
    "            for key, val in params.items():\n",
    "                self.m[key] = np.zeros_like(val)\n",
    "                self.v[key] = np.zeros_like(val)\n",
    "        \n",
    "        self.iter += 1\n",
    "        lr_t  = self.lr * np.sqrt(1.0 - self.beta2**self.iter) / (1.0 - self.beta1**self.iter)         \n",
    "        \n",
    "        for key in params.keys():\n",
    "            self.m[key] += (1 - self.beta1) * (grads[key] - self.m[key])\n",
    "            self.v[key] += (1 - self.beta2) * (grads[key]**2 - self.v[key])\n",
    "            \n",
    "            params[key] -= lr_t * self.m[key] / (np.sqrt(self.v[key]) + 1e-7)"
   ]
  },
  {
   "cell_type": "markdown",
   "id": "01f96de2",
   "metadata": {},
   "source": [
    "-----"
   ]
  },
  {
   "cell_type": "markdown",
   "id": "c9b6f170",
   "metadata": {},
   "source": [
    "# 방법들의 비교"
   ]
  },
  {
   "cell_type": "markdown",
   "id": "402842f0",
   "metadata": {},
   "source": [
    "## MNIST Data 읽어오기"
   ]
  },
  {
   "cell_type": "code",
   "execution_count": 7,
   "id": "2955a491",
   "metadata": {},
   "outputs": [],
   "source": [
    "(x_train, t_train), (x_test, t_test) = load_mnist(normalize=True)\n",
    "\n",
    "train_size = x_train.shape[0]\n",
    "batch_size = 128\n",
    "max_iterations = 2000"
   ]
  },
  {
   "cell_type": "markdown",
   "id": "fe04cd92",
   "metadata": {},
   "source": [
    "## 함수의 설정"
   ]
  },
  {
   "cell_type": "code",
   "execution_count": 8,
   "id": "66d70380",
   "metadata": {},
   "outputs": [],
   "source": [
    "optimizers = {}\n",
    "optimizers['SGD'] = SGD()\n",
    "optimizers['Momentum'] = Momentum()\n",
    "optimizers['AdaGrad'] = AdaGrad()\n",
    "optimizers['Adam'] = Adam()\n",
    "optimizers['RMSprop'] = RMSprop()"
   ]
  },
  {
   "cell_type": "code",
   "execution_count": 9,
   "id": "a10f66fb",
   "metadata": {},
   "outputs": [],
   "source": [
    "networks = {}\n",
    "train_loss = {}"
   ]
  },
  {
   "cell_type": "code",
   "execution_count": 10,
   "id": "602c9010",
   "metadata": {},
   "outputs": [],
   "source": [
    "for key in optimizers.keys():\n",
    "    networks[key] = MultiLayerNet(\n",
    "        input_size=784, hidden_size_list=[100, 100, 100, 100],\n",
    "        output_size=10)\n",
    "    train_loss[key] = []    "
   ]
  },
  {
   "cell_type": "markdown",
   "id": "6774855e",
   "metadata": {},
   "source": [
    "## 학습 시작"
   ]
  },
  {
   "cell_type": "code",
   "execution_count": 11,
   "id": "5f7c5587",
   "metadata": {
    "scrolled": true
   },
   "outputs": [
    {
     "name": "stdout",
     "output_type": "stream",
     "text": [
      "===========iteration:0===========\n",
      "SGD : 2.3050\n",
      "Momentum : 2.3798\n",
      "AdaGrad : 2.2888\n",
      "Adam : 2.2166\n",
      "RMSprop : 13.4737\n",
      "===========iteration:100===========\n",
      "SGD : 1.4653\n",
      "Momentum : 0.3623\n",
      "AdaGrad : 0.1839\n",
      "Adam : 0.2751\n",
      "RMSprop : 0.3654\n",
      "===========iteration:200===========\n",
      "SGD : 0.7058\n",
      "Momentum : 0.1697\n",
      "AdaGrad : 0.1209\n",
      "Adam : 0.1338\n",
      "RMSprop : 0.1832\n",
      "===========iteration:300===========\n",
      "SGD : 0.6402\n",
      "Momentum : 0.3242\n",
      "AdaGrad : 0.1392\n",
      "Adam : 0.2210\n",
      "RMSprop : 0.2655\n",
      "===========iteration:400===========\n",
      "SGD : 0.3966\n",
      "Momentum : 0.1725\n",
      "AdaGrad : 0.0682\n",
      "Adam : 0.1441\n",
      "RMSprop : 0.2078\n",
      "===========iteration:500===========\n",
      "SGD : 0.3708\n",
      "Momentum : 0.1506\n",
      "AdaGrad : 0.0599\n",
      "Adam : 0.1152\n",
      "RMSprop : 0.2270\n",
      "===========iteration:600===========\n",
      "SGD : 0.3447\n",
      "Momentum : 0.1321\n",
      "AdaGrad : 0.0464\n",
      "Adam : 0.0740\n",
      "RMSprop : 0.0725\n",
      "===========iteration:700===========\n",
      "SGD : 0.3464\n",
      "Momentum : 0.1145\n",
      "AdaGrad : 0.0459\n",
      "Adam : 0.0667\n",
      "RMSprop : 0.2054\n",
      "===========iteration:800===========\n",
      "SGD : 0.3956\n",
      "Momentum : 0.1844\n",
      "AdaGrad : 0.1331\n",
      "Adam : 0.1432\n",
      "RMSprop : 0.2495\n",
      "===========iteration:900===========\n",
      "SGD : 0.2667\n",
      "Momentum : 0.1164\n",
      "AdaGrad : 0.0262\n",
      "Adam : 0.0608\n",
      "RMSprop : 0.1161\n",
      "===========iteration:1000===========\n",
      "SGD : 0.3125\n",
      "Momentum : 0.0747\n",
      "AdaGrad : 0.0290\n",
      "Adam : 0.0373\n",
      "RMSprop : 0.1068\n",
      "===========iteration:1100===========\n",
      "SGD : 0.1834\n",
      "Momentum : 0.1092\n",
      "AdaGrad : 0.0234\n",
      "Adam : 0.0284\n",
      "RMSprop : 0.3137\n",
      "===========iteration:1200===========\n",
      "SGD : 0.2476\n",
      "Momentum : 0.0741\n",
      "AdaGrad : 0.0458\n",
      "Adam : 0.0583\n",
      "RMSprop : 0.1202\n",
      "===========iteration:1300===========\n",
      "SGD : 0.1935\n",
      "Momentum : 0.0641\n",
      "AdaGrad : 0.0218\n",
      "Adam : 0.0145\n",
      "RMSprop : 0.1255\n",
      "===========iteration:1400===========\n",
      "SGD : 0.2017\n",
      "Momentum : 0.0903\n",
      "AdaGrad : 0.0292\n",
      "Adam : 0.0651\n",
      "RMSprop : 0.0999\n",
      "===========iteration:1500===========\n",
      "SGD : 0.1561\n",
      "Momentum : 0.0974\n",
      "AdaGrad : 0.0124\n",
      "Adam : 0.0770\n",
      "RMSprop : 0.0968\n",
      "===========iteration:1600===========\n",
      "SGD : 0.2966\n",
      "Momentum : 0.0881\n",
      "AdaGrad : 0.0315\n",
      "Adam : 0.0228\n",
      "RMSprop : 0.1143\n",
      "===========iteration:1700===========\n",
      "SGD : 0.0992\n",
      "Momentum : 0.0270\n",
      "AdaGrad : 0.0149\n",
      "Adam : 0.0263\n",
      "RMSprop : 0.0318\n",
      "===========iteration:1800===========\n",
      "SGD : 0.2556\n",
      "Momentum : 0.0767\n",
      "AdaGrad : 0.0267\n",
      "Adam : 0.0300\n",
      "RMSprop : 0.1122\n",
      "===========iteration:1900===========\n",
      "SGD : 0.1607\n",
      "Momentum : 0.0817\n",
      "AdaGrad : 0.0135\n",
      "Adam : 0.0397\n",
      "RMSprop : 0.0857\n"
     ]
    }
   ],
   "source": [
    "for i in range(max_iterations):\n",
    "    batch_mask = np.random.choice(train_size, batch_size)\n",
    "    x_batch = x_train[batch_mask]\n",
    "    t_batch = t_train[batch_mask]\n",
    "    \n",
    "    for key in optimizers.keys():\n",
    "        grads = networks[key].gradient(x_batch, t_batch)\n",
    "        optimizers[key].update(networks[key].params, grads)\n",
    "    \n",
    "        loss = networks[key].loss(x_batch, t_batch)\n",
    "        train_loss[key].append(loss)\n",
    "    \n",
    "    if i % 100 == 0:\n",
    "        print( \"===========\" + \"iteration:\" + str(i) + \"===========\")\n",
    "        for key in optimizers.keys():\n",
    "            loss = networks[key].loss(x_batch, t_batch)\n",
    "            print(f\"{key} : {loss:.4f}\")"
   ]
  },
  {
   "cell_type": "markdown",
   "id": "7fb2ed20",
   "metadata": {},
   "source": [
    "## 그래프 표시"
   ]
  },
  {
   "cell_type": "code",
   "execution_count": 12,
   "id": "9df65b95",
   "metadata": {},
   "outputs": [],
   "source": [
    "markers = {\"SGD\": \"o\", \"Momentum\": \"x\", \"AdaGrad\": \"s\", \"Adam\": \"D\", \"RMSprop\": \"h\"}"
   ]
  },
  {
   "cell_type": "code",
   "execution_count": 13,
   "id": "f238da7e",
   "metadata": {},
   "outputs": [
    {
     "data": {
      "image/png": "[encoded data removed]",
      "text/plain": [
       "<Figure size 640x480 with 1 Axes>"
      ]
     },
     "metadata": {},
     "output_type": "display_data"
    }
   ],
   "source": [
    "x = np.arange(max_iterations)\n",
    "for key in optimizers.keys():\n",
    "    plt.plot(x, smooth_curve(train_loss[key]), marker=markers[key], markevery=100, label=key)\n",
    "plt.xlabel(\"iterations\")\n",
    "plt.ylabel(\"loss\")\n",
    "plt.ylim(0, 1)\n",
    "plt.legend()\n",
    "plt.show()"
   ]
  }
 ],
 "metadata": {
  "kernelspec": {
   "display_name": "Python 3 (ipykernel)",
   "language": "python",
   "name": "python3"
  },
  "language_info": {
   "codemirror_mode": {
    "name": "ipython",
    "version": 3
   },
   "file_extension": ".py",
   "mimetype": "text/x-python",
   "name": "python",
   "nbconvert_exporter": "python",
   "pygments_lexer": "ipython3",
   "version": "3.10.9"
  }
 },
 "nbformat": 4,
 "nbformat_minor": 5
}
